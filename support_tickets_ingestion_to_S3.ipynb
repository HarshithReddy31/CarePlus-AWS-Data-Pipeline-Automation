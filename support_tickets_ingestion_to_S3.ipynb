{
 "cells": [
  {
   "cell_type": "markdown",
   "id": "7b882f98",
   "metadata": {},
   "source": [
    "### ingest_daily_support_tickets"
   ]
  },
  {
   "cell_type": "code",
   "execution_count": 22,
   "id": "48ca8bed",
   "metadata": {},
   "outputs": [
    {
     "name": "stdout",
     "output_type": "stream",
     "text": [
      "Defaulting to user installation because normal site-packages is not writeable\n",
      "Requirement already satisfied: pymysql in c:\\users\\harsh\\appdata\\roaming\\python\\python312\\site-packages (1.1.2)\n",
      "Requirement already satisfied: sqlalchemy in c:\\programdata\\anaconda3\\lib\\site-packages (2.0.34)\n",
      "Requirement already satisfied: boto3 in c:\\users\\harsh\\appdata\\roaming\\python\\python312\\site-packages (1.40.42)\n",
      "Requirement already satisfied: pandas in c:\\programdata\\anaconda3\\lib\\site-packages (2.2.2)\n",
      "Requirement already satisfied: typing-extensions>=4.6.0 in c:\\programdata\\anaconda3\\lib\\site-packages (from sqlalchemy) (4.11.0)\n",
      "Requirement already satisfied: greenlet!=0.4.17 in c:\\programdata\\anaconda3\\lib\\site-packages (from sqlalchemy) (3.0.1)\n",
      "Requirement already satisfied: botocore<1.41.0,>=1.40.42 in c:\\users\\harsh\\appdata\\roaming\\python\\python312\\site-packages (from boto3) (1.40.42)\n",
      "Requirement already satisfied: jmespath<2.0.0,>=0.7.1 in c:\\programdata\\anaconda3\\lib\\site-packages (from boto3) (1.0.1)\n",
      "Requirement already satisfied: s3transfer<0.15.0,>=0.14.0 in c:\\users\\harsh\\appdata\\roaming\\python\\python312\\site-packages (from boto3) (0.14.0)\n",
      "Requirement already satisfied: numpy>=1.26.0 in c:\\programdata\\anaconda3\\lib\\site-packages (from pandas) (1.26.4)\n",
      "Requirement already satisfied: python-dateutil>=2.8.2 in c:\\programdata\\anaconda3\\lib\\site-packages (from pandas) (2.9.0.post0)\n",
      "Requirement already satisfied: pytz>=2020.1 in c:\\programdata\\anaconda3\\lib\\site-packages (from pandas) (2024.1)\n",
      "Requirement already satisfied: tzdata>=2022.7 in c:\\programdata\\anaconda3\\lib\\site-packages (from pandas) (2023.3)\n",
      "Requirement already satisfied: urllib3!=2.2.0,<3,>=1.25.4 in c:\\programdata\\anaconda3\\lib\\site-packages (from botocore<1.41.0,>=1.40.42->boto3) (2.2.3)\n",
      "Requirement already satisfied: six>=1.5 in c:\\programdata\\anaconda3\\lib\\site-packages (from python-dateutil>=2.8.2->pandas) (1.16.0)\n"
     ]
    },
    {
     "data": {
      "text/plain": [
       "True"
      ]
     },
     "execution_count": 22,
     "metadata": {},
     "output_type": "execute_result"
    }
   ],
   "source": [
    "!pip install pymysql sqlalchemy boto3 pandas\n",
    "import pymysql\n",
    "import sqlalchemy\n",
    "import os\n",
    "import pandas as pd\n",
    "import boto3\n",
    "from io import StringIO\n",
    "from sqlalchemy import create_engine\n",
    "from datetime import datetime, timedelta\n",
    "\n",
    "from dotenv import load_dotenv\n",
    "\n",
    "\n",
    "load_dotenv(\"sample.env\")  \n",
    "\n"
   ]
  },
  {
   "cell_type": "code",
   "execution_count": null,
   "id": "7ff1ff27-bbb7-4b6d-8beb-63016ce2fb4e",
   "metadata": {},
   "outputs": [],
   "source": []
  },
  {
   "cell_type": "code",
   "execution_count": 23,
   "id": "8d8d3ea4",
   "metadata": {},
   "outputs": [],
   "source": [
    "# ---------- CONFIG ----------\n",
    "db_config = {\n",
    "    \"host\": \"localhost\",\n",
    "    \"port\": \"3306\",\n",
    "    \"user\": \"root\",  # change\n",
    "    \"password\": \"Root\", # change\n",
    "    \"database\": \"careplus_support_db\"\n",
    "}\n",
    "\n",
    "S3_BUCKET = \"careplus-data1\" \n",
    "S3_PREFIX = \"support-tickets/raw/\"  \n",
    "DATE_TRACKER_FILE = \"date_tracker.txt\"\n",
    "\n",
    "import os\n",
    "\n",
    "AWS_CONFIG = {\n",
    "    \"aws_access_key_id\": os.getenv(\"AWS_ACCESS_KEY\"),\n",
    "    \"aws_secret_access_key\": os.getenv(\"SECRET_KEY\"),\n",
    "    \"region_name\": os.getenv(\"REGION\")\n",
    "}"
   ]
  },
  {
   "cell_type": "code",
   "execution_count": 55,
   "id": "bf479c7f",
   "metadata": {},
   "outputs": [
    {
     "name": "stdout",
     "output_type": "stream",
     "text": [
      "(0, 10)\n",
      "Empty DataFrame\n",
      "Columns: [ticket_id, created_at, resolved_at, agent, priority, num_interactions, IssUeCat, channel, status, agent_feedback]\n",
      "Index: []\n",
      "⚠️ No data found for 2025-08-01. Skipping upload.\n"
     ]
    }
   ],
   "source": [
    "# ---------- UTILITY FUNCTIONS ----------\n",
    "def get_engine(config):\n",
    "    return create_engine(f\"mysql+pymysql://{config['user']}:{config['password']}@{config['host']}:{config['port']}/{config['database']}\")\n",
    "\n",
    "def upload_to_s3(df, bucket, key):\n",
    "    csv_buffer = StringIO()\n",
    "    df.to_csv(csv_buffer, index=False)\n",
    "\n",
    "    s3 = boto3.client('s3', **AWS_CONFIG)\n",
    "    s3.put_object(Bucket=bucket, Key=key, Body=csv_buffer.getvalue())\n",
    "    print(f\"✅ Uploaded to s3://{bucket}/{key}\")\n",
    "\n",
    "def read_last_date(file_path):\n",
    "    if os.path.exists(file_path):\n",
    "        with open(file_path, 'r') as f:\n",
    "            return f.read().strip()\n",
    "    return \"2025-06-30\"  # Starting point before 1st July\n",
    "\n",
    "def update_last_date(file_path, new_date):\n",
    "    with open(file_path, 'w') as f:\n",
    "        f.write(new_date)\n",
    "\n",
    "def get_next_date(last_date_str):\n",
    "    last_date = datetime.strptime(last_date_str, \"%Y-%m-%d\")\n",
    "    next_date = last_date + timedelta(days=1)\n",
    "    return next_date.strftime(\"%Y-%m-%d\")\n",
    "\n",
    "# ---------- MAIN INGESTION LOGIC ----------\n",
    "def run_ingestion():\n",
    "    engine = get_engine(db_config)\n",
    "    last_date = read_last_date(DATE_TRACKER_FILE)\n",
    "    next_date = get_next_date(last_date)\n",
    "\n",
    "    # Query only that day’s data\n",
    "    query = f\"\"\"\n",
    "        SELECT * FROM support_tickets\n",
    "        WHERE DATE(created_at) = '{next_date}';\n",
    "    \"\"\"\n",
    "    df = pd.read_sql(query, engine)\n",
    "    print(df.shape)\n",
    "    print(df.head())\n",
    "\n",
    "    if df.empty:\n",
    "        print(f\"⚠️ No data found for {next_date}. Skipping upload.\")\n",
    "        return\n",
    "\n",
    "    # Upload to S3\n",
    "    s3_key = f\"{S3_PREFIX}support_tickets_{next_date}.csv\"\n",
    "    upload_to_s3(df, S3_BUCKET, s3_key)\n",
    "\n",
    "    # Update date tracker\n",
    "    update_last_date(DATE_TRACKER_FILE, next_date)\n",
    "    print(f\"📅 Updated tracker to {next_date}\")\n",
    "\n",
    "# Run\n",
    "if __name__ == \"__main__\":\n",
    "    run_ingestion()"
   ]
  },
  {
   "cell_type": "code",
   "execution_count": null,
   "id": "7c0bb380-3ea9-4023-aaaf-c8db92bc81a4",
   "metadata": {},
   "outputs": [],
   "source": []
  },
  {
   "cell_type": "code",
   "execution_count": null,
   "id": "6d74ddd8-cdde-405b-a533-5e8c412867c4",
   "metadata": {},
   "outputs": [],
   "source": []
  }
 ],
 "metadata": {
  "kernelspec": {
   "display_name": "Python 3 (ipykernel)",
   "language": "python",
   "name": "python3"
  },
  "language_info": {
   "codemirror_mode": {
    "name": "ipython",
    "version": 3
   },
   "file_extension": ".py",
   "mimetype": "text/x-python",
   "name": "python",
   "nbconvert_exporter": "python",
   "pygments_lexer": "ipython3",
   "version": "3.12.7"
  }
 },
 "nbformat": 4,
 "nbformat_minor": 5
}
